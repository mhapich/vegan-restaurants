{
 "cells": [
  {
   "cell_type": "markdown",
   "id": "8a90128b",
   "metadata": {},
   "source": [
    "# Analysis of Restaurant Information"
   ]
  },
  {
   "cell_type": "markdown",
   "id": "84e757bf",
   "metadata": {},
   "source": [
    "### Import necessary packages for EDA"
   ]
  },
  {
   "cell_type": "code",
   "execution_count": 2,
   "id": "d1f3a044",
   "metadata": {},
   "outputs": [],
   "source": [
    "import pandas as pd\n",
    "import numpy as np\n",
    "import matplotlib.pyplot as plt\n",
    "import seaborn as sns"
   ]
  },
  {
   "cell_type": "code",
   "execution_count": 3,
   "id": "10485132",
   "metadata": {},
   "outputs": [
    {
     "data": {
      "text/html": [
       "<div>\n",
       "<style scoped>\n",
       "    .dataframe tbody tr th:only-of-type {\n",
       "        vertical-align: middle;\n",
       "    }\n",
       "\n",
       "    .dataframe tbody tr th {\n",
       "        vertical-align: top;\n",
       "    }\n",
       "\n",
       "    .dataframe thead th {\n",
       "        text-align: right;\n",
       "    }\n",
       "</style>\n",
       "<table border=\"1\" class=\"dataframe\">\n",
       "  <thead>\n",
       "    <tr style=\"text-align: right;\">\n",
       "      <th></th>\n",
       "      <th>address</th>\n",
       "      <th>categories</th>\n",
       "      <th>city</th>\n",
       "      <th>claimed</th>\n",
       "      <th>country</th>\n",
       "      <th>cuisines</th>\n",
       "      <th>dateOpened</th>\n",
       "      <th>dateUpdated</th>\n",
       "      <th>descriptions</th>\n",
       "      <th>facebookPageURL</th>\n",
       "      <th>...</th>\n",
       "      <th>menuURL</th>\n",
       "      <th>name</th>\n",
       "      <th>paymentTypes</th>\n",
       "      <th>phones</th>\n",
       "      <th>postalCode</th>\n",
       "      <th>priceRange</th>\n",
       "      <th>province</th>\n",
       "      <th>sic</th>\n",
       "      <th>twitter</th>\n",
       "      <th>websites</th>\n",
       "    </tr>\n",
       "  </thead>\n",
       "  <tbody>\n",
       "    <tr>\n",
       "      <th>0</th>\n",
       "      <td>2871 Gulf To Bay Blvd</td>\n",
       "      <td>American, American (new), Clearwater Restauran...</td>\n",
       "      <td>Clearwater</td>\n",
       "      <td>NaN</td>\n",
       "      <td>US</td>\n",
       "      <td>NaN</td>\n",
       "      <td>NaN</td>\n",
       "      <td>2014-02-01T04:41:06Z</td>\n",
       "      <td>Tags: American (New), American, and Trendy Sta...</td>\n",
       "      <td>NaN</td>\n",
       "      <td>...</td>\n",
       "      <td>NaN</td>\n",
       "      <td>Village Inn Restaurant and Bakery</td>\n",
       "      <td>NaN</td>\n",
       "      <td>7277964988</td>\n",
       "      <td>33759</td>\n",
       "      <td>NaN</td>\n",
       "      <td>FL</td>\n",
       "      <td>8423</td>\n",
       "      <td>NaN</td>\n",
       "      <td>NaN</td>\n",
       "    </tr>\n",
       "    <tr>\n",
       "      <th>1</th>\n",
       "      <td>605 W Main St</td>\n",
       "      <td>Caf and Sandwich Place</td>\n",
       "      <td>Louisville</td>\n",
       "      <td>NaN</td>\n",
       "      <td>US</td>\n",
       "      <td>Vegetarian,  Delicatessen</td>\n",
       "      <td>NaN</td>\n",
       "      <td>2016-07-23T22:37:24Z</td>\n",
       "      <td>Atlantic No. 5, Louisville: See 4 unbiased rev...</td>\n",
       "      <td>NaN</td>\n",
       "      <td>...</td>\n",
       "      <td>NaN</td>\n",
       "      <td>Atlantic No. 5</td>\n",
       "      <td>Yes</td>\n",
       "      <td>5028833398</td>\n",
       "      <td>40202</td>\n",
       "      <td>USD 25.00-40.00</td>\n",
       "      <td>KY</td>\n",
       "      <td>NaN</td>\n",
       "      <td>NaN</td>\n",
       "      <td>atlanticno5.com</td>\n",
       "    </tr>\n",
       "    <tr>\n",
       "      <th>2</th>\n",
       "      <td>3803 9th St S W</td>\n",
       "      <td>American, Barbecue, Puyallup Restaurants, Barb...</td>\n",
       "      <td>Puyallup</td>\n",
       "      <td>NaN</td>\n",
       "      <td>US</td>\n",
       "      <td>NaN</td>\n",
       "      <td>NaN</td>\n",
       "      <td>2015-11-19T22:22:31Z</td>\n",
       "      <td>Description:  Famous Dave's is a Barbecue , Am...</td>\n",
       "      <td>NaN</td>\n",
       "      <td>...</td>\n",
       "      <td>NaN</td>\n",
       "      <td>Famous Dave's</td>\n",
       "      <td>NaN</td>\n",
       "      <td>2536040340</td>\n",
       "      <td>98373</td>\n",
       "      <td>USD 10.00 - USD 15.00</td>\n",
       "      <td>WA</td>\n",
       "      <td>5610</td>\n",
       "      <td>NaN</td>\n",
       "      <td>http://famousdaves.com</td>\n",
       "    </tr>\n",
       "    <tr>\n",
       "      <th>3</th>\n",
       "      <td>30 S Main St</td>\n",
       "      <td>Coffee &amp; Tea, Restaurant, Restaurants, Bar, Am...</td>\n",
       "      <td>Oberlin</td>\n",
       "      <td>NaN</td>\n",
       "      <td>US</td>\n",
       "      <td>Coffee &amp; Tea, Restaurants, American,  Bar,  Pu...</td>\n",
       "      <td>NaN</td>\n",
       "      <td>2016-06-20T17:47:10Z</td>\n",
       "      <td>The Feve, Oberlin: See 170 unbiased reviews of...</td>\n",
       "      <td>NaN</td>\n",
       "      <td>...</td>\n",
       "      <td>/oberlin-oh/mip/the-feve-8940755/menu</td>\n",
       "      <td>The Feve</td>\n",
       "      <td>mastercard, amex, discover, Yes, visa</td>\n",
       "      <td>[\"4407741978\",\"4197741978\",\"4407753064\"]</td>\n",
       "      <td>44074</td>\n",
       "      <td>USD 25.00-40.00</td>\n",
       "      <td>OH</td>\n",
       "      <td>NaN</td>\n",
       "      <td>NaN</td>\n",
       "      <td>http://www.thefeve.com</td>\n",
       "    </tr>\n",
       "    <tr>\n",
       "      <th>4</th>\n",
       "      <td>55 Crescent Dr</td>\n",
       "      <td>Sandwich Place and Fast Food Restaurant</td>\n",
       "      <td>Pleasant Hill</td>\n",
       "      <td>yellowpages.com</td>\n",
       "      <td>US</td>\n",
       "      <td>Take Out Restaurants, Asian Restaurants, Resta...</td>\n",
       "      <td>NaN</td>\n",
       "      <td>2016-07-23T23:55:05Z</td>\n",
       "      <td>[\"https://www.zagat.com/r/yalla-mediterranean-...</td>\n",
       "      <td>NaN</td>\n",
       "      <td>...</td>\n",
       "      <td>/pleasant-hill-ca/mip/yalla-mediterranean-5061...</td>\n",
       "      <td>Quiznos</td>\n",
       "      <td>master card, visa</td>\n",
       "      <td>9258258644</td>\n",
       "      <td>94523</td>\n",
       "      <td>$</td>\n",
       "      <td>CA</td>\n",
       "      <td>NaN</td>\n",
       "      <td>quiznos</td>\n",
       "      <td>http://www.yallamedi.com/</td>\n",
       "    </tr>\n",
       "  </tbody>\n",
       "</table>\n",
       "<p>5 rows × 29 columns</p>\n",
       "</div>"
      ],
      "text/plain": [
       "                 address                                         categories  \\\n",
       "0  2871 Gulf To Bay Blvd  American, American (new), Clearwater Restauran...   \n",
       "1          605 W Main St                             Caf and Sandwich Place   \n",
       "2        3803 9th St S W  American, Barbecue, Puyallup Restaurants, Barb...   \n",
       "3           30 S Main St  Coffee & Tea, Restaurant, Restaurants, Bar, Am...   \n",
       "4         55 Crescent Dr            Sandwich Place and Fast Food Restaurant   \n",
       "\n",
       "            city          claimed country  \\\n",
       "0     Clearwater              NaN      US   \n",
       "1     Louisville              NaN      US   \n",
       "2       Puyallup              NaN      US   \n",
       "3        Oberlin              NaN      US   \n",
       "4  Pleasant Hill  yellowpages.com      US   \n",
       "\n",
       "                                            cuisines dateOpened  \\\n",
       "0                                                NaN        NaN   \n",
       "1                          Vegetarian,  Delicatessen        NaN   \n",
       "2                                                NaN        NaN   \n",
       "3  Coffee & Tea, Restaurants, American,  Bar,  Pu...        NaN   \n",
       "4  Take Out Restaurants, Asian Restaurants, Resta...        NaN   \n",
       "\n",
       "            dateUpdated                                       descriptions  \\\n",
       "0  2014-02-01T04:41:06Z  Tags: American (New), American, and Trendy Sta...   \n",
       "1  2016-07-23T22:37:24Z  Atlantic No. 5, Louisville: See 4 unbiased rev...   \n",
       "2  2015-11-19T22:22:31Z  Description:  Famous Dave's is a Barbecue , Am...   \n",
       "3  2016-06-20T17:47:10Z  The Feve, Oberlin: See 170 unbiased reviews of...   \n",
       "4  2016-07-23T23:55:05Z  [\"https://www.zagat.com/r/yalla-mediterranean-...   \n",
       "\n",
       "  facebookPageURL  ...                                            menuURL  \\\n",
       "0             NaN  ...                                                NaN   \n",
       "1             NaN  ...                                                NaN   \n",
       "2             NaN  ...                                                NaN   \n",
       "3             NaN  ...              /oberlin-oh/mip/the-feve-8940755/menu   \n",
       "4             NaN  ...  /pleasant-hill-ca/mip/yalla-mediterranean-5061...   \n",
       "\n",
       "                                name                           paymentTypes  \\\n",
       "0  Village Inn Restaurant and Bakery                                    NaN   \n",
       "1                     Atlantic No. 5                                    Yes   \n",
       "2                      Famous Dave's                                    NaN   \n",
       "3                           The Feve  mastercard, amex, discover, Yes, visa   \n",
       "4                            Quiznos                      master card, visa   \n",
       "\n",
       "                                     phones postalCode             priceRange  \\\n",
       "0                                7277964988      33759                    NaN   \n",
       "1                                5028833398      40202        USD 25.00-40.00   \n",
       "2                                2536040340      98373  USD 10.00 - USD 15.00   \n",
       "3  [\"4407741978\",\"4197741978\",\"4407753064\"]      44074        USD 25.00-40.00   \n",
       "4                                9258258644      94523                      $   \n",
       "\n",
       "  province   sic  twitter                   websites  \n",
       "0       FL  8423      NaN                        NaN  \n",
       "1       KY   NaN      NaN            atlanticno5.com  \n",
       "2       WA  5610      NaN     http://famousdaves.com  \n",
       "3       OH   NaN      NaN     http://www.thefeve.com  \n",
       "4       CA   NaN  quiznos  http://www.yallamedi.com/  \n",
       "\n",
       "[5 rows x 29 columns]"
      ]
     },
     "execution_count": 3,
     "metadata": {},
     "output_type": "execute_result"
    }
   ],
   "source": [
    "df = pd.read_csv(\"vegetarian_restaurants_US_datafiniti_vegetarian_restaurants_US_datafiniti.csv.zip\")\n",
    "df.head()"
   ]
  },
  {
   "cell_type": "code",
   "execution_count": 4,
   "id": "adc56173",
   "metadata": {},
   "outputs": [
    {
     "data": {
      "text/plain": [
       "(18155, 29)"
      ]
     },
     "execution_count": 4,
     "metadata": {},
     "output_type": "execute_result"
    }
   ],
   "source": [
    "df.shape"
   ]
  },
  {
   "cell_type": "code",
   "execution_count": 5,
   "id": "5456484c",
   "metadata": {},
   "outputs": [
    {
     "name": "stdout",
     "output_type": "stream",
     "text": [
      "<class 'pandas.core.frame.DataFrame'>\n",
      "RangeIndex: 18155 entries, 0 to 18154\n",
      "Data columns (total 29 columns):\n",
      " #   Column           Non-Null Count  Dtype  \n",
      "---  ------           --------------  -----  \n",
      " 0   address          17201 non-null  object \n",
      " 1   categories       17993 non-null  object \n",
      " 2   city             17534 non-null  object \n",
      " 3   claimed          820 non-null    object \n",
      " 4   country          18155 non-null  object \n",
      " 5   cuisines         10468 non-null  object \n",
      " 6   dateOpened       264 non-null    object \n",
      " 7   dateUpdated      18155 non-null  object \n",
      " 8   descriptions     11224 non-null  object \n",
      " 9   facebookPageURL  1182 non-null   object \n",
      " 10  features         6881 non-null   object \n",
      " 11  hours            7973 non-null   object \n",
      " 12  images           6576 non-null   object \n",
      " 13  isClosed         605 non-null    object \n",
      " 14  key              18155 non-null  object \n",
      " 15  lat              13704 non-null  float64\n",
      " 16  languages        8 non-null      object \n",
      " 17  long             13760 non-null  float64\n",
      " 18  menus            7091 non-null   object \n",
      " 19  menuURL          3456 non-null   object \n",
      " 20  name             17333 non-null  object \n",
      " 21  paymentTypes     6250 non-null   object \n",
      " 22  phones           16441 non-null  object \n",
      " 23  postalCode       17609 non-null  object \n",
      " 24  priceRange       7747 non-null   object \n",
      " 25  province         17623 non-null  object \n",
      " 26  sic              8017 non-null   object \n",
      " 27  twitter          2893 non-null   object \n",
      " 28  websites         8382 non-null   object \n",
      "dtypes: float64(2), object(27)\n",
      "memory usage: 4.0+ MB\n"
     ]
    }
   ],
   "source": [
    "df.info()"
   ]
  },
  {
   "cell_type": "markdown",
   "id": "12832cc1",
   "metadata": {},
   "source": [
    "## Field description"
   ]
  },
  {
   "cell_type": "markdown",
   "id": "11fc31fc",
   "metadata": {},
   "source": [
    "(for those that are not self-explanatory)"
   ]
  },
  {
   "cell_type": "markdown",
   "id": "9b0def2b",
   "metadata": {},
   "source": [
    "**claimed** - a list of websites where the business location has been claimed by the business' owner<br>\n",
    "**domains** - a list of each unique domain found in the sourceURLs field<br>\n",
    "**hours** - the hours of operation for this business location<br>\n",
    "**keys** - a list of internal Datafiniti identifiers for this business. The keys field is used to merge raw data from individual sources into the master Datafiniti record <br>\n",
    "**paymentTypes** - a list of payment options accepted by the business<br>\n",
    "**province** - the province or state for this business location<br>\n",
    "**sic** - the SIC code for the business<br>"
   ]
  },
  {
   "cell_type": "markdown",
   "id": "35364159",
   "metadata": {},
   "source": [
    "fields that are more complicated, as they consist basically of dictionaries:"
   ]
  },
  {
   "cell_type": "markdown",
   "id": "12409861",
   "metadata": {},
   "source": [
    "**descriptions** -  list of descriptions for this business from various sources <br><br>\n",
    "Each description contains:\n",
    "\n",
    "dateSeen: the date when this description has been seen for this business<br>\n",
    "sourceURLs: a list of source URLs where this specific description was seen<br>\n",
    "value: a unique description for this business"
   ]
  },
  {
   "cell_type": "markdown",
   "id": "2f039627",
   "metadata": {},
   "source": [
    "**features** - a list of features associated with this business location. The feature list can be collected from specific feature sections available on listings for this business. It can also serve as a catch-all field for miscellaneous characteristics of this business that don't make sense to include as top-level fields\n",
    "\n",
    "Each feature contains:\n",
    "\n",
    "key: a label for this feature<br>\n",
    "replace: flag indicating value field is replaced versus appended<br>\n",
    "value: a list of possible values for this feature"
   ]
  },
  {
   "cell_type": "markdown",
   "id": "614aa4a1",
   "metadata": {},
   "source": [
    "**hours** - the hours of operation for this business location<br><br>\n",
    "Each hour object may contain:\n",
    "\n",
    "day: the day(s) for this hour of operation<br>\n",
    "dept: the department or business unit related to this hour of operation<br>\n",
    "meal: the mealtime associated with these hours. Typically reserved for restaurant locations\n",
    "hour: the hours of operation"
   ]
  },
  {
   "cell_type": "markdown",
   "id": "0af7f606",
   "metadata": {},
   "source": [
    "**menus** - a list of menu items offered by the business. This field will only show for restaurants or other eating locations\n",
    "<br><br>\n",
    "Each menu item may include:\n",
    "\n",
    "amountMin: the minimum price value of the item<br>\n",
    "amountMax: the maximum price value of the item. This is typically the same as amountMin, except in cases where a price range is listed<br>\n",
    "category: the menu section this item belongs to<br>\n",
    "currency: the currency listed for amountMin and amountMax<br>\n",
    "dateSeen: the date when this item was seen<br>\n",
    "description: a description for the item<br>\n",
    "name: the item's name on the menu<br>\n",
    "sourceURLs: a list of URLs where this item was seen<br>"
   ]
  },
  {
   "cell_type": "code",
   "execution_count": 6,
   "id": "ee170591",
   "metadata": {},
   "outputs": [
    {
     "data": {
      "text/plain": [
       "5610      5962\n",
       "[5610]     442\n",
       "8423       268\n",
       "4774       118\n",
       "0          101\n",
       "          ... \n",
       "4759         1\n",
       "8211         1\n",
       "4753         1\n",
       "7310         1\n",
       "9491         1\n",
       "Name: sic, Length: 141, dtype: int64"
      ]
     },
     "execution_count": 6,
     "metadata": {},
     "output_type": "execute_result"
    }
   ],
   "source": [
    "df.sic.value_counts()"
   ]
  },
  {
   "cell_type": "code",
   "execution_count": null,
   "id": "c06441d9",
   "metadata": {},
   "outputs": [],
   "source": []
  },
  {
   "cell_type": "markdown",
   "id": "0e07cc64",
   "metadata": {},
   "source": [
    "## Explore features we can change to categorical"
   ]
  },
  {
   "cell_type": "code",
   "execution_count": 4,
   "id": "7660134f",
   "metadata": {},
   "outputs": [
    {
     "data": {
      "text/plain": [
       "Index(['address', 'categories', 'city', 'claimed', 'country', 'cuisines',\n",
       "       'dateOpened', 'dateUpdated', 'descriptions', 'facebookPageURL',\n",
       "       'features', 'hours', 'images', 'isClosed', 'key', 'lat', 'languages',\n",
       "       'long', 'menus', 'menuURL', 'name', 'paymentTypes', 'phones',\n",
       "       'postalCode', 'priceRange', 'province', 'sic', 'twitter', 'websites'],\n",
       "      dtype='object')"
      ]
     },
     "execution_count": 4,
     "metadata": {},
     "output_type": "execute_result"
    }
   ],
   "source": [
    "df.columns"
   ]
  },
  {
   "cell_type": "markdown",
   "id": "c1230403",
   "metadata": {},
   "source": [
    "- Categories"
   ]
  },
  {
   "cell_type": "code",
   "execution_count": 5,
   "id": "0db3432e",
   "metadata": {},
   "outputs": [
    {
     "data": {
      "text/plain": [
       "Restaurant                                                                                                                                                                                                                                                                                                                                                                                                                                                       2257\n",
       "Vegetarian / Vegan Restaurant                                                                                                                                                                                                                                                                                                                                                                                                                                     926\n",
       "Restaurants                                                                                                                                                                                                                                                                                                                                                                                                                                                       470\n",
       "caterers                                                                                                                                                                                                                                                                                                                                                                                                                                                          146\n",
       "vegetarian / vegan restaurant                                                                                                                                                                                                                                                                                                                                                                                                                                      74\n",
       "                                                                                                                                                                                                                                                                                                                                                                                                                                                                 ... \n",
       "American, Pizza, Salinas Restaurants, Pizza / American / Vegetarian                                                                                                                                                                                                                                                                                                                                                                                                 1\n",
       "Mt Ida Restaurants, Pizza, Pizza / Vegetarian / American                                                                                                                                                                                                                                                                                                                                                                                                            1\n",
       "Boston, Restaurant, Cambridge, Hot Dogs Burgers Sandwiches Wings, ;area - cambridge, neighborhood - porter-sq-fresh-pond, cuisine - hot-dogs, cuisine - burgers, cuisine - sandwiches, cuisine - wings, meal - Lunch, meal - Dinner, feature - Wheelchair Friendly, Mexican, Somerville Restaurants, Davis Square, Mexican / Brunch / Vegetarian, Somerville,  MA, Restaurants & Bars, Restaurants, Somerville Mexican Restaurant, recreation, food and drink       1\n",
       "Restaurants, Caterers, Cafes, Pizza, Take Out Restaurants                                                                                                                                                                                                                                                                                                                                                                                                           1\n",
       "Rehoboth Beach Restaurants, Pizza / American / Vegetarian                                                                                                                                                                                                                                                                                                                                                                                                           1\n",
       "Name: categories, Length: 9950, dtype: int64"
      ]
     },
     "execution_count": 5,
     "metadata": {},
     "output_type": "execute_result"
    }
   ],
   "source": [
    "df.categories.value_counts()"
   ]
  },
  {
   "cell_type": "code",
   "execution_count": 6,
   "id": "e4e2bdee",
   "metadata": {},
   "outputs": [
    {
     "data": {
      "text/plain": [
       "9951"
      ]
     },
     "execution_count": 6,
     "metadata": {},
     "output_type": "execute_result"
    }
   ],
   "source": [
    "len(df.categories.unique())"
   ]
  },
  {
   "cell_type": "code",
   "execution_count": 7,
   "id": "7520522a",
   "metadata": {},
   "outputs": [
    {
     "data": {
      "text/plain": [
       "(18155, 29)"
      ]
     },
     "execution_count": 7,
     "metadata": {},
     "output_type": "execute_result"
    }
   ],
   "source": [
    "df.shape"
   ]
  },
  {
   "cell_type": "code",
   "execution_count": 8,
   "id": "9e2358c8",
   "metadata": {},
   "outputs": [
    {
     "data": {
      "text/plain": [
       "numpy.ndarray"
      ]
     },
     "execution_count": 8,
     "metadata": {},
     "output_type": "execute_result"
    }
   ],
   "source": [
    "orig_cats = df.categories.unique()\n",
    "type(orig_cats)"
   ]
  },
  {
   "cell_type": "code",
   "execution_count": 9,
   "id": "6fb95916",
   "metadata": {},
   "outputs": [
    {
     "data": {
      "text/plain": [
       "str"
      ]
     },
     "execution_count": 9,
     "metadata": {},
     "output_type": "execute_result"
    }
   ],
   "source": [
    "type(orig_cats[0])"
   ]
  },
  {
   "cell_type": "code",
   "execution_count": 10,
   "id": "3ecc91a8",
   "metadata": {},
   "outputs": [
    {
     "data": {
      "text/plain": [
       "210"
      ]
     },
     "execution_count": 10,
     "metadata": {},
     "output_type": "execute_result"
    }
   ],
   "source": [
    "df['categories'].str.contains(\"caterer\").sum()"
   ]
  },
  {
   "cell_type": "code",
   "execution_count": 11,
   "id": "6f3ae6d8",
   "metadata": {},
   "outputs": [
    {
     "data": {
      "text/plain": [
       "Int64Index([   22,   123,   155,   185,   283,   452,   463,   559,   572,\n",
       "              604,\n",
       "            ...\n",
       "            17705, 17765, 17772, 17881, 17984, 18021, 18032, 18045, 18094,\n",
       "            18149],\n",
       "           dtype='int64', length=206)"
      ]
     },
     "execution_count": 11,
     "metadata": {},
     "output_type": "execute_result"
    }
   ],
   "source": [
    "df[df['categories'].str.contains(\"aterer\", na=False) & ~(df['categories'].str.contains(\"estaurant\", na=False))].index"
   ]
  },
  {
   "cell_type": "code",
   "execution_count": 12,
   "id": "07696d1d",
   "metadata": {},
   "outputs": [],
   "source": [
    "restaurants = df.drop(df[df['categories'].str.contains(\"aterer\", na=False) & ~(df['categories'].str.contains(\"estaurant\", na=False))].index)"
   ]
  },
  {
   "cell_type": "code",
   "execution_count": 13,
   "id": "7b5ca14a",
   "metadata": {},
   "outputs": [
    {
     "data": {
      "text/plain": [
       "Restaurant                                                                                                                                                                                                                                                                                                                                                                                                                                                       2257\n",
       "Vegetarian / Vegan Restaurant                                                                                                                                                                                                                                                                                                                                                                                                                                     926\n",
       "Restaurants                                                                                                                                                                                                                                                                                                                                                                                                                                                       470\n",
       "vegetarian / vegan restaurant                                                                                                                                                                                                                                                                                                                                                                                                                                      74\n",
       "[\"Restaurant\",\"Restaurants\"]                                                                                                                                                                                                                                                                                                                                                                                                                                       70\n",
       "                                                                                                                                                                                                                                                                                                                                                                                                                                                                 ... \n",
       "American, Pizza, Salinas Restaurants, Pizza / American / Vegetarian                                                                                                                                                                                                                                                                                                                                                                                                 1\n",
       "Mt Ida Restaurants, Pizza, Pizza / Vegetarian / American                                                                                                                                                                                                                                                                                                                                                                                                            1\n",
       "Boston, Restaurant, Cambridge, Hot Dogs Burgers Sandwiches Wings, ;area - cambridge, neighborhood - porter-sq-fresh-pond, cuisine - hot-dogs, cuisine - burgers, cuisine - sandwiches, cuisine - wings, meal - Lunch, meal - Dinner, feature - Wheelchair Friendly, Mexican, Somerville Restaurants, Davis Square, Mexican / Brunch / Vegetarian, Somerville,  MA, Restaurants & Bars, Restaurants, Somerville Mexican Restaurant, recreation, food and drink       1\n",
       "Restaurants, Caterers, Cafes, Pizza, Take Out Restaurants                                                                                                                                                                                                                                                                                                                                                                                                           1\n",
       "Rehoboth Beach Restaurants, Pizza / American / Vegetarian                                                                                                                                                                                                                                                                                                                                                                                                           1\n",
       "Name: categories, Length: 9913, dtype: int64"
      ]
     },
     "execution_count": 13,
     "metadata": {},
     "output_type": "execute_result"
    }
   ],
   "source": [
    "restaurants.categories.value_counts()"
   ]
  },
  {
   "cell_type": "code",
   "execution_count": 14,
   "id": "95ea79ae",
   "metadata": {},
   "outputs": [
    {
     "data": {
      "text/plain": [
       "(17949, 29)"
      ]
     },
     "execution_count": 14,
     "metadata": {},
     "output_type": "execute_result"
    }
   ],
   "source": [
    "restaurants.shape"
   ]
  },
  {
   "cell_type": "code",
   "execution_count": 15,
   "id": "bead7604",
   "metadata": {},
   "outputs": [
    {
     "data": {
      "text/plain": [
       "16879"
      ]
     },
     "execution_count": 15,
     "metadata": {},
     "output_type": "execute_result"
    }
   ],
   "source": [
    "restaurants['categories'].str.contains(\"estaurant\").sum()"
   ]
  },
  {
   "cell_type": "code",
   "execution_count": 16,
   "id": "3418877d",
   "metadata": {},
   "outputs": [
    {
     "data": {
      "text/html": [
       "<div>\n",
       "<style scoped>\n",
       "    .dataframe tbody tr th:only-of-type {\n",
       "        vertical-align: middle;\n",
       "    }\n",
       "\n",
       "    .dataframe tbody tr th {\n",
       "        vertical-align: top;\n",
       "    }\n",
       "\n",
       "    .dataframe thead th {\n",
       "        text-align: right;\n",
       "    }\n",
       "</style>\n",
       "<table border=\"1\" class=\"dataframe\">\n",
       "  <thead>\n",
       "    <tr style=\"text-align: right;\">\n",
       "      <th></th>\n",
       "      <th>address</th>\n",
       "      <th>categories</th>\n",
       "      <th>city</th>\n",
       "      <th>claimed</th>\n",
       "      <th>country</th>\n",
       "      <th>cuisines</th>\n",
       "      <th>dateOpened</th>\n",
       "      <th>dateUpdated</th>\n",
       "      <th>descriptions</th>\n",
       "      <th>facebookPageURL</th>\n",
       "      <th>...</th>\n",
       "      <th>menuURL</th>\n",
       "      <th>name</th>\n",
       "      <th>paymentTypes</th>\n",
       "      <th>phones</th>\n",
       "      <th>postalCode</th>\n",
       "      <th>priceRange</th>\n",
       "      <th>province</th>\n",
       "      <th>sic</th>\n",
       "      <th>twitter</th>\n",
       "      <th>websites</th>\n",
       "    </tr>\n",
       "  </thead>\n",
       "  <tbody>\n",
       "    <tr>\n",
       "      <th>1</th>\n",
       "      <td>605 W Main St</td>\n",
       "      <td>Caf and Sandwich Place</td>\n",
       "      <td>Louisville</td>\n",
       "      <td>NaN</td>\n",
       "      <td>US</td>\n",
       "      <td>Vegetarian,  Delicatessen</td>\n",
       "      <td>NaN</td>\n",
       "      <td>2016-07-23T22:37:24Z</td>\n",
       "      <td>Atlantic No. 5, Louisville: See 4 unbiased rev...</td>\n",
       "      <td>NaN</td>\n",
       "      <td>...</td>\n",
       "      <td>NaN</td>\n",
       "      <td>Atlantic No. 5</td>\n",
       "      <td>Yes</td>\n",
       "      <td>5028833398</td>\n",
       "      <td>40202</td>\n",
       "      <td>USD 25.00-40.00</td>\n",
       "      <td>KY</td>\n",
       "      <td>NaN</td>\n",
       "      <td>NaN</td>\n",
       "      <td>atlanticno5.com</td>\n",
       "    </tr>\n",
       "    <tr>\n",
       "      <th>24</th>\n",
       "      <td>222 E Main St</td>\n",
       "      <td>Deli / Bodega</td>\n",
       "      <td>Port Washington</td>\n",
       "      <td>foursquare.com</td>\n",
       "      <td>US</td>\n",
       "      <td>American,  Vegetarian</td>\n",
       "      <td>NaN</td>\n",
       "      <td>2016-07-23T23:16:43Z</td>\n",
       "      <td>Dockside Deli, Port Washington: See 116 unbias...</td>\n",
       "      <td>NaN</td>\n",
       "      <td>...</td>\n",
       "      <td>NaN</td>\n",
       "      <td>Dockside Deli</td>\n",
       "      <td>Yes</td>\n",
       "      <td>[\"2622849440\"]</td>\n",
       "      <td>53074</td>\n",
       "      <td>USD 0.00-25.00</td>\n",
       "      <td>WI</td>\n",
       "      <td>NaN</td>\n",
       "      <td>docksidedeli</td>\n",
       "      <td>docksidedeli.com</td>\n",
       "    </tr>\n",
       "    <tr>\n",
       "      <th>33</th>\n",
       "      <td>2908 Fruth St</td>\n",
       "      <td>[\"Smoothies\",\"Organic\",\"Vegetarian\"]</td>\n",
       "      <td>Austin</td>\n",
       "      <td>NaN</td>\n",
       "      <td>US</td>\n",
       "      <td>[\"Bakery, Sandwiches/Subs, Vegetarian\"]</td>\n",
       "      <td>NaN</td>\n",
       "      <td>2016-04-23T11:54:05Z</td>\n",
       "      <td>NaN</td>\n",
       "      <td>NaN</td>\n",
       "      <td>...</td>\n",
       "      <td>NaN</td>\n",
       "      <td>Juiceland - University of Texas - Austin</td>\n",
       "      <td>NaN</td>\n",
       "      <td>NaN</td>\n",
       "      <td>[\"78705\"]</td>\n",
       "      <td>NaN</td>\n",
       "      <td>TX</td>\n",
       "      <td>[2100]</td>\n",
       "      <td>NaN</td>\n",
       "      <td>NaN</td>\n",
       "    </tr>\n",
       "    <tr>\n",
       "      <th>131</th>\n",
       "      <td>6117 E Us Highway 10</td>\n",
       "      <td>Beer &amp; Beverages, Convenience Stores, Liquor S...</td>\n",
       "      <td>Custer</td>\n",
       "      <td>NaN</td>\n",
       "      <td>US</td>\n",
       "      <td>Pizza By The Slice, French Fries / Onion Rings...</td>\n",
       "      <td>NaN</td>\n",
       "      <td>2013-11-07T06:11:12Z</td>\n",
       "      <td>NaN</td>\n",
       "      <td>NaN</td>\n",
       "      <td>...</td>\n",
       "      <td>NaN</td>\n",
       "      <td>Pioneer Party Store</td>\n",
       "      <td>NaN</td>\n",
       "      <td>2317579508</td>\n",
       "      <td>49405-9761</td>\n",
       "      <td>NaN</td>\n",
       "      <td>MI</td>\n",
       "      <td>4761</td>\n",
       "      <td>NaN</td>\n",
       "      <td>NaN</td>\n",
       "    </tr>\n",
       "    <tr>\n",
       "      <th>143</th>\n",
       "      <td>945 Columbus Ave</td>\n",
       "      <td>Indian, Vegetarian</td>\n",
       "      <td>Manhattan</td>\n",
       "      <td>NaN</td>\n",
       "      <td>US</td>\n",
       "      <td>NaN</td>\n",
       "      <td>NaN</td>\n",
       "      <td>2015-11-19T22:42:23Z</td>\n",
       "      <td>NaN</td>\n",
       "      <td>NaN</td>\n",
       "      <td>...</td>\n",
       "      <td>NaN</td>\n",
       "      <td>Doaba Deli</td>\n",
       "      <td>NaN</td>\n",
       "      <td>2122222636</td>\n",
       "      <td>10025</td>\n",
       "      <td>USD 0.00 - USD 10.00</td>\n",
       "      <td>NY</td>\n",
       "      <td>8423</td>\n",
       "      <td>NaN</td>\n",
       "      <td>NaN</td>\n",
       "    </tr>\n",
       "  </tbody>\n",
       "</table>\n",
       "<p>5 rows × 29 columns</p>\n",
       "</div>"
      ],
      "text/plain": [
       "                  address                                         categories  \\\n",
       "1           605 W Main St                             Caf and Sandwich Place   \n",
       "24          222 E Main St                                      Deli / Bodega   \n",
       "33          2908 Fruth St               [\"Smoothies\",\"Organic\",\"Vegetarian\"]   \n",
       "131  6117 E Us Highway 10  Beer & Beverages, Convenience Stores, Liquor S...   \n",
       "143      945 Columbus Ave                                 Indian, Vegetarian   \n",
       "\n",
       "                city         claimed country  \\\n",
       "1         Louisville             NaN      US   \n",
       "24   Port Washington  foursquare.com      US   \n",
       "33            Austin             NaN      US   \n",
       "131           Custer             NaN      US   \n",
       "143        Manhattan             NaN      US   \n",
       "\n",
       "                                              cuisines dateOpened  \\\n",
       "1                            Vegetarian,  Delicatessen        NaN   \n",
       "24                               American,  Vegetarian        NaN   \n",
       "33             [\"Bakery, Sandwiches/Subs, Vegetarian\"]        NaN   \n",
       "131  Pizza By The Slice, French Fries / Onion Rings...        NaN   \n",
       "143                                                NaN        NaN   \n",
       "\n",
       "              dateUpdated                                       descriptions  \\\n",
       "1    2016-07-23T22:37:24Z  Atlantic No. 5, Louisville: See 4 unbiased rev...   \n",
       "24   2016-07-23T23:16:43Z  Dockside Deli, Port Washington: See 116 unbias...   \n",
       "33   2016-04-23T11:54:05Z                                                NaN   \n",
       "131  2013-11-07T06:11:12Z                                                NaN   \n",
       "143  2015-11-19T22:42:23Z                                                NaN   \n",
       "\n",
       "    facebookPageURL  ... menuURL                                      name  \\\n",
       "1               NaN  ...     NaN                            Atlantic No. 5   \n",
       "24              NaN  ...     NaN                             Dockside Deli   \n",
       "33              NaN  ...     NaN  Juiceland - University of Texas - Austin   \n",
       "131             NaN  ...     NaN                       Pioneer Party Store   \n",
       "143             NaN  ...     NaN                                Doaba Deli   \n",
       "\n",
       "    paymentTypes          phones  postalCode            priceRange province  \\\n",
       "1            Yes      5028833398       40202       USD 25.00-40.00       KY   \n",
       "24           Yes  [\"2622849440\"]       53074        USD 0.00-25.00       WI   \n",
       "33           NaN             NaN   [\"78705\"]                   NaN       TX   \n",
       "131          NaN      2317579508  49405-9761                   NaN       MI   \n",
       "143          NaN      2122222636       10025  USD 0.00 - USD 10.00       NY   \n",
       "\n",
       "        sic       twitter          websites  \n",
       "1       NaN           NaN   atlanticno5.com  \n",
       "24      NaN  docksidedeli  docksidedeli.com  \n",
       "33   [2100]           NaN               NaN  \n",
       "131    4761           NaN               NaN  \n",
       "143    8423           NaN               NaN  \n",
       "\n",
       "[5 rows x 29 columns]"
      ]
     },
     "execution_count": 16,
     "metadata": {},
     "output_type": "execute_result"
    }
   ],
   "source": [
    "check_these = restaurants[~restaurants['categories'].str.contains(\"estaurant\", na=False)]\n",
    "check_these.head()"
   ]
  },
  {
   "cell_type": "code",
   "execution_count": 17,
   "id": "eabfa6e1",
   "metadata": {},
   "outputs": [
    {
     "data": {
      "text/plain": [
       "1                                   Caf and Sandwich Place\n",
       "24                                           Deli / Bodega\n",
       "33                    [\"Smoothies\",\"Organic\",\"Vegetarian\"]\n",
       "131      Beer & Beverages, Convenience Stores, Liquor S...\n",
       "143                                     Indian, Vegetarian\n",
       "                               ...                        \n",
       "18088                           Buffet, Indian, Vegetarian\n",
       "18132                                    ice cream parlors\n",
       "18133                                    Soups, Vegetarian\n",
       "18140                American, Vegetarian, Modern American\n",
       "18148                     Greek, Mediterranean, Vegetarian\n",
       "Name: categories, Length: 1070, dtype: object"
      ]
     },
     "execution_count": 17,
     "metadata": {},
     "output_type": "execute_result"
    }
   ],
   "source": [
    "check_these.categories"
   ]
  },
  {
   "cell_type": "code",
   "execution_count": 18,
   "id": "20b25916",
   "metadata": {},
   "outputs": [
    {
     "data": {
      "text/plain": [
       "1"
      ]
     },
     "execution_count": 18,
     "metadata": {},
     "output_type": "execute_result"
    }
   ],
   "source": [
    "check_these.categories.str.contains(\"eer\").sum()"
   ]
  },
  {
   "cell_type": "code",
   "execution_count": 19,
   "id": "cf81691e",
   "metadata": {},
   "outputs": [
    {
     "data": {
      "text/html": [
       "<div>\n",
       "<style scoped>\n",
       "    .dataframe tbody tr th:only-of-type {\n",
       "        vertical-align: middle;\n",
       "    }\n",
       "\n",
       "    .dataframe tbody tr th {\n",
       "        vertical-align: top;\n",
       "    }\n",
       "\n",
       "    .dataframe thead th {\n",
       "        text-align: right;\n",
       "    }\n",
       "</style>\n",
       "<table border=\"1\" class=\"dataframe\">\n",
       "  <thead>\n",
       "    <tr style=\"text-align: right;\">\n",
       "      <th></th>\n",
       "      <th>address</th>\n",
       "      <th>categories</th>\n",
       "      <th>city</th>\n",
       "      <th>claimed</th>\n",
       "      <th>country</th>\n",
       "      <th>cuisines</th>\n",
       "      <th>dateOpened</th>\n",
       "      <th>dateUpdated</th>\n",
       "      <th>descriptions</th>\n",
       "      <th>facebookPageURL</th>\n",
       "      <th>...</th>\n",
       "      <th>menuURL</th>\n",
       "      <th>name</th>\n",
       "      <th>paymentTypes</th>\n",
       "      <th>phones</th>\n",
       "      <th>postalCode</th>\n",
       "      <th>priceRange</th>\n",
       "      <th>province</th>\n",
       "      <th>sic</th>\n",
       "      <th>twitter</th>\n",
       "      <th>websites</th>\n",
       "    </tr>\n",
       "  </thead>\n",
       "  <tbody>\n",
       "    <tr>\n",
       "      <th>131</th>\n",
       "      <td>6117 E Us Highway 10</td>\n",
       "      <td>Beer &amp; Beverages, Convenience Stores, Liquor S...</td>\n",
       "      <td>Custer</td>\n",
       "      <td>NaN</td>\n",
       "      <td>US</td>\n",
       "      <td>Pizza By The Slice, French Fries / Onion Rings...</td>\n",
       "      <td>NaN</td>\n",
       "      <td>2013-11-07T06:11:12Z</td>\n",
       "      <td>NaN</td>\n",
       "      <td>NaN</td>\n",
       "      <td>...</td>\n",
       "      <td>NaN</td>\n",
       "      <td>Pioneer Party Store</td>\n",
       "      <td>NaN</td>\n",
       "      <td>2317579508</td>\n",
       "      <td>49405-9761</td>\n",
       "      <td>NaN</td>\n",
       "      <td>MI</td>\n",
       "      <td>4761</td>\n",
       "      <td>NaN</td>\n",
       "      <td>NaN</td>\n",
       "    </tr>\n",
       "  </tbody>\n",
       "</table>\n",
       "<p>1 rows × 29 columns</p>\n",
       "</div>"
      ],
      "text/plain": [
       "                  address                                         categories  \\\n",
       "131  6117 E Us Highway 10  Beer & Beverages, Convenience Stores, Liquor S...   \n",
       "\n",
       "       city claimed country  \\\n",
       "131  Custer     NaN      US   \n",
       "\n",
       "                                              cuisines dateOpened  \\\n",
       "131  Pizza By The Slice, French Fries / Onion Rings...        NaN   \n",
       "\n",
       "              dateUpdated descriptions facebookPageURL  ... menuURL  \\\n",
       "131  2013-11-07T06:11:12Z          NaN             NaN  ...     NaN   \n",
       "\n",
       "                    name paymentTypes      phones  postalCode  priceRange  \\\n",
       "131  Pioneer Party Store          NaN  2317579508  49405-9761         NaN   \n",
       "\n",
       "    province   sic twitter websites  \n",
       "131       MI  4761     NaN      NaN  \n",
       "\n",
       "[1 rows x 29 columns]"
      ]
     },
     "execution_count": 19,
     "metadata": {},
     "output_type": "execute_result"
    }
   ],
   "source": [
    "restaurants[restaurants.address == \"6117 E Us Highway 10\"]"
   ]
  },
  {
   "cell_type": "code",
   "execution_count": 20,
   "id": "6f827888",
   "metadata": {},
   "outputs": [
    {
     "data": {
      "text/html": [
       "<div>\n",
       "<style scoped>\n",
       "    .dataframe tbody tr th:only-of-type {\n",
       "        vertical-align: middle;\n",
       "    }\n",
       "\n",
       "    .dataframe tbody tr th {\n",
       "        vertical-align: top;\n",
       "    }\n",
       "\n",
       "    .dataframe thead th {\n",
       "        text-align: right;\n",
       "    }\n",
       "</style>\n",
       "<table border=\"1\" class=\"dataframe\">\n",
       "  <thead>\n",
       "    <tr style=\"text-align: right;\">\n",
       "      <th></th>\n",
       "      <th>address</th>\n",
       "      <th>categories</th>\n",
       "      <th>city</th>\n",
       "      <th>claimed</th>\n",
       "      <th>country</th>\n",
       "      <th>cuisines</th>\n",
       "      <th>dateOpened</th>\n",
       "      <th>dateUpdated</th>\n",
       "      <th>descriptions</th>\n",
       "      <th>facebookPageURL</th>\n",
       "      <th>...</th>\n",
       "      <th>menuURL</th>\n",
       "      <th>name</th>\n",
       "      <th>paymentTypes</th>\n",
       "      <th>phones</th>\n",
       "      <th>postalCode</th>\n",
       "      <th>priceRange</th>\n",
       "      <th>province</th>\n",
       "      <th>sic</th>\n",
       "      <th>twitter</th>\n",
       "      <th>websites</th>\n",
       "    </tr>\n",
       "  </thead>\n",
       "  <tbody>\n",
       "    <tr>\n",
       "      <th>131</th>\n",
       "      <td>203 Main St W</td>\n",
       "      <td>Restaurants-breakfast &amp; Diners, Restaurants, A...</td>\n",
       "      <td>Baudette</td>\n",
       "      <td>NaN</td>\n",
       "      <td>US</td>\n",
       "      <td>Italian Cuisine, Gourmet Deli Cuisine, Sandwic...</td>\n",
       "      <td>NaN</td>\n",
       "      <td>2015-11-19T22:33:53Z</td>\n",
       "      <td>Homemade Old Style Cookin</td>\n",
       "      <td>NaN</td>\n",
       "      <td>...</td>\n",
       "      <td>NaN</td>\n",
       "      <td>Mn Restaurant</td>\n",
       "      <td>NaN</td>\n",
       "      <td>2186341165</td>\n",
       "      <td>56623</td>\n",
       "      <td>NaN</td>\n",
       "      <td>MN</td>\n",
       "      <td>5610</td>\n",
       "      <td>NaN</td>\n",
       "      <td>http://www.alicesfamilyrestaurant.net</td>\n",
       "    </tr>\n",
       "  </tbody>\n",
       "</table>\n",
       "<p>1 rows × 29 columns</p>\n",
       "</div>"
      ],
      "text/plain": [
       "           address                                         categories  \\\n",
       "131  203 Main St W  Restaurants-breakfast & Diners, Restaurants, A...   \n",
       "\n",
       "         city claimed country  \\\n",
       "131  Baudette     NaN      US   \n",
       "\n",
       "                                              cuisines dateOpened  \\\n",
       "131  Italian Cuisine, Gourmet Deli Cuisine, Sandwic...        NaN   \n",
       "\n",
       "              dateUpdated               descriptions facebookPageURL  ...  \\\n",
       "131  2015-11-19T22:33:53Z  Homemade Old Style Cookin             NaN  ...   \n",
       "\n",
       "    menuURL           name paymentTypes      phones postalCode  priceRange  \\\n",
       "131     NaN  Mn Restaurant          NaN  2186341165      56623         NaN   \n",
       "\n",
       "    province   sic twitter                               websites  \n",
       "131       MN  5610     NaN  http://www.alicesfamilyrestaurant.net  \n",
       "\n",
       "[1 rows x 29 columns]"
      ]
     },
     "execution_count": 20,
     "metadata": {},
     "output_type": "execute_result"
    }
   ],
   "source": [
    "restaurants.reset_index(drop=True, inplace=True)\n",
    "restaurants.iloc[[131]]"
   ]
  },
  {
   "cell_type": "code",
   "execution_count": 21,
   "id": "2368f8e7",
   "metadata": {},
   "outputs": [
    {
     "data": {
      "text/html": [
       "<div>\n",
       "<style scoped>\n",
       "    .dataframe tbody tr th:only-of-type {\n",
       "        vertical-align: middle;\n",
       "    }\n",
       "\n",
       "    .dataframe tbody tr th {\n",
       "        vertical-align: top;\n",
       "    }\n",
       "\n",
       "    .dataframe thead th {\n",
       "        text-align: right;\n",
       "    }\n",
       "</style>\n",
       "<table border=\"1\" class=\"dataframe\">\n",
       "  <thead>\n",
       "    <tr style=\"text-align: right;\">\n",
       "      <th></th>\n",
       "      <th>address</th>\n",
       "      <th>categories</th>\n",
       "      <th>city</th>\n",
       "      <th>claimed</th>\n",
       "      <th>country</th>\n",
       "      <th>cuisines</th>\n",
       "      <th>dateOpened</th>\n",
       "      <th>dateUpdated</th>\n",
       "      <th>descriptions</th>\n",
       "      <th>facebookPageURL</th>\n",
       "      <th>...</th>\n",
       "      <th>menuURL</th>\n",
       "      <th>name</th>\n",
       "      <th>paymentTypes</th>\n",
       "      <th>phones</th>\n",
       "      <th>postalCode</th>\n",
       "      <th>priceRange</th>\n",
       "      <th>province</th>\n",
       "      <th>sic</th>\n",
       "      <th>twitter</th>\n",
       "      <th>websites</th>\n",
       "    </tr>\n",
       "  </thead>\n",
       "  <tbody>\n",
       "    <tr>\n",
       "      <th>129</th>\n",
       "      <td>6117 E Us Highway 10</td>\n",
       "      <td>Beer &amp; Beverages, Convenience Stores, Liquor S...</td>\n",
       "      <td>Custer</td>\n",
       "      <td>NaN</td>\n",
       "      <td>US</td>\n",
       "      <td>Pizza By The Slice, French Fries / Onion Rings...</td>\n",
       "      <td>NaN</td>\n",
       "      <td>2013-11-07T06:11:12Z</td>\n",
       "      <td>NaN</td>\n",
       "      <td>NaN</td>\n",
       "      <td>...</td>\n",
       "      <td>NaN</td>\n",
       "      <td>Pioneer Party Store</td>\n",
       "      <td>NaN</td>\n",
       "      <td>2317579508</td>\n",
       "      <td>49405-9761</td>\n",
       "      <td>NaN</td>\n",
       "      <td>MI</td>\n",
       "      <td>4761</td>\n",
       "      <td>NaN</td>\n",
       "      <td>NaN</td>\n",
       "    </tr>\n",
       "  </tbody>\n",
       "</table>\n",
       "<p>1 rows × 29 columns</p>\n",
       "</div>"
      ],
      "text/plain": [
       "                  address                                         categories  \\\n",
       "129  6117 E Us Highway 10  Beer & Beverages, Convenience Stores, Liquor S...   \n",
       "\n",
       "       city claimed country  \\\n",
       "129  Custer     NaN      US   \n",
       "\n",
       "                                              cuisines dateOpened  \\\n",
       "129  Pizza By The Slice, French Fries / Onion Rings...        NaN   \n",
       "\n",
       "              dateUpdated descriptions facebookPageURL  ... menuURL  \\\n",
       "129  2013-11-07T06:11:12Z          NaN             NaN  ...     NaN   \n",
       "\n",
       "                    name paymentTypes      phones  postalCode  priceRange  \\\n",
       "129  Pioneer Party Store          NaN  2317579508  49405-9761         NaN   \n",
       "\n",
       "    province   sic twitter websites  \n",
       "129       MI  4761     NaN      NaN  \n",
       "\n",
       "[1 rows x 29 columns]"
      ]
     },
     "execution_count": 21,
     "metadata": {},
     "output_type": "execute_result"
    }
   ],
   "source": [
    "restaurants[restaurants.address == \"6117 E Us Highway 10\"]"
   ]
  },
  {
   "cell_type": "code",
   "execution_count": 22,
   "id": "b566be5d",
   "metadata": {},
   "outputs": [
    {
     "data": {
      "text/html": [
       "<div>\n",
       "<style scoped>\n",
       "    .dataframe tbody tr th:only-of-type {\n",
       "        vertical-align: middle;\n",
       "    }\n",
       "\n",
       "    .dataframe tbody tr th {\n",
       "        vertical-align: top;\n",
       "    }\n",
       "\n",
       "    .dataframe thead th {\n",
       "        text-align: right;\n",
       "    }\n",
       "</style>\n",
       "<table border=\"1\" class=\"dataframe\">\n",
       "  <thead>\n",
       "    <tr style=\"text-align: right;\">\n",
       "      <th></th>\n",
       "      <th>address</th>\n",
       "      <th>categories</th>\n",
       "      <th>city</th>\n",
       "      <th>claimed</th>\n",
       "      <th>country</th>\n",
       "      <th>cuisines</th>\n",
       "      <th>dateOpened</th>\n",
       "      <th>dateUpdated</th>\n",
       "      <th>descriptions</th>\n",
       "      <th>facebookPageURL</th>\n",
       "      <th>...</th>\n",
       "      <th>menuURL</th>\n",
       "      <th>name</th>\n",
       "      <th>paymentTypes</th>\n",
       "      <th>phones</th>\n",
       "      <th>postalCode</th>\n",
       "      <th>priceRange</th>\n",
       "      <th>province</th>\n",
       "      <th>sic</th>\n",
       "      <th>twitter</th>\n",
       "      <th>websites</th>\n",
       "    </tr>\n",
       "  </thead>\n",
       "  <tbody>\n",
       "    <tr>\n",
       "      <th>128</th>\n",
       "      <td>700 River Dr</td>\n",
       "      <td>Restaurant</td>\n",
       "      <td>Fort Bragg</td>\n",
       "      <td>NaN</td>\n",
       "      <td>US</td>\n",
       "      <td>Mexican,  American,  Asian,  Vegan</td>\n",
       "      <td>NaN</td>\n",
       "      <td>2016-05-16T22:43:43Z</td>\n",
       "      <td>Tsunami Nacho Truck, Fort Bragg: See 7 unbiase...</td>\n",
       "      <td>NaN</td>\n",
       "      <td>...</td>\n",
       "      <td>NaN</td>\n",
       "      <td>Tsunami Nacho Truck</td>\n",
       "      <td>NaN</td>\n",
       "      <td>14157307646</td>\n",
       "      <td>95437</td>\n",
       "      <td>NaN</td>\n",
       "      <td>CA</td>\n",
       "      <td>NaN</td>\n",
       "      <td>NaN</td>\n",
       "      <td>NaN</td>\n",
       "    </tr>\n",
       "    <tr>\n",
       "      <th>129</th>\n",
       "      <td>6117 E Us Highway 10</td>\n",
       "      <td>Beer &amp; Beverages, Convenience Stores, Liquor S...</td>\n",
       "      <td>Custer</td>\n",
       "      <td>NaN</td>\n",
       "      <td>US</td>\n",
       "      <td>Pizza By The Slice, French Fries / Onion Rings...</td>\n",
       "      <td>NaN</td>\n",
       "      <td>2013-11-07T06:11:12Z</td>\n",
       "      <td>NaN</td>\n",
       "      <td>NaN</td>\n",
       "      <td>...</td>\n",
       "      <td>NaN</td>\n",
       "      <td>Pioneer Party Store</td>\n",
       "      <td>NaN</td>\n",
       "      <td>2317579508</td>\n",
       "      <td>49405-9761</td>\n",
       "      <td>NaN</td>\n",
       "      <td>MI</td>\n",
       "      <td>4761</td>\n",
       "      <td>NaN</td>\n",
       "      <td>NaN</td>\n",
       "    </tr>\n",
       "    <tr>\n",
       "      <th>130</th>\n",
       "      <td>703 W Burlington Ave</td>\n",
       "      <td>Restaurants, Fairfield Restaurants, Mexican / ...</td>\n",
       "      <td>Fairfield</td>\n",
       "      <td>NaN</td>\n",
       "      <td>US</td>\n",
       "      <td>NaN</td>\n",
       "      <td>NaN</td>\n",
       "      <td>2015-11-19T22:34:07Z</td>\n",
       "      <td>Tags: Mexican, American, and Family Style Stat...</td>\n",
       "      <td>NaN</td>\n",
       "      <td>...</td>\n",
       "      <td>NaN</td>\n",
       "      <td>Taco John's Fairfield Ia - Hours Reviews &amp; More</td>\n",
       "      <td>NaN</td>\n",
       "      <td>6414727833</td>\n",
       "      <td>52556</td>\n",
       "      <td>USD 0.00 - USD 10.00</td>\n",
       "      <td>IA</td>\n",
       "      <td>4774</td>\n",
       "      <td>NaN</td>\n",
       "      <td>NaN</td>\n",
       "    </tr>\n",
       "  </tbody>\n",
       "</table>\n",
       "<p>3 rows × 29 columns</p>\n",
       "</div>"
      ],
      "text/plain": [
       "                  address                                         categories  \\\n",
       "128          700 River Dr                                         Restaurant   \n",
       "129  6117 E Us Highway 10  Beer & Beverages, Convenience Stores, Liquor S...   \n",
       "130  703 W Burlington Ave  Restaurants, Fairfield Restaurants, Mexican / ...   \n",
       "\n",
       "           city claimed country  \\\n",
       "128  Fort Bragg     NaN      US   \n",
       "129      Custer     NaN      US   \n",
       "130   Fairfield     NaN      US   \n",
       "\n",
       "                                              cuisines dateOpened  \\\n",
       "128                 Mexican,  American,  Asian,  Vegan        NaN   \n",
       "129  Pizza By The Slice, French Fries / Onion Rings...        NaN   \n",
       "130                                                NaN        NaN   \n",
       "\n",
       "              dateUpdated                                       descriptions  \\\n",
       "128  2016-05-16T22:43:43Z  Tsunami Nacho Truck, Fort Bragg: See 7 unbiase...   \n",
       "129  2013-11-07T06:11:12Z                                                NaN   \n",
       "130  2015-11-19T22:34:07Z  Tags: Mexican, American, and Family Style Stat...   \n",
       "\n",
       "    facebookPageURL  ... menuURL  \\\n",
       "128             NaN  ...     NaN   \n",
       "129             NaN  ...     NaN   \n",
       "130             NaN  ...     NaN   \n",
       "\n",
       "                                                name paymentTypes  \\\n",
       "128                              Tsunami Nacho Truck          NaN   \n",
       "129                              Pioneer Party Store          NaN   \n",
       "130  Taco John's Fairfield Ia - Hours Reviews & More          NaN   \n",
       "\n",
       "          phones  postalCode            priceRange province   sic twitter  \\\n",
       "128  14157307646       95437                   NaN       CA   NaN     NaN   \n",
       "129   2317579508  49405-9761                   NaN       MI  4761     NaN   \n",
       "130   6414727833       52556  USD 0.00 - USD 10.00       IA  4774     NaN   \n",
       "\n",
       "    websites  \n",
       "128      NaN  \n",
       "129      NaN  \n",
       "130      NaN  \n",
       "\n",
       "[3 rows x 29 columns]"
      ]
     },
     "execution_count": 22,
     "metadata": {},
     "output_type": "execute_result"
    }
   ],
   "source": [
    "restaurants.iloc[128:131]"
   ]
  },
  {
   "cell_type": "code",
   "execution_count": 23,
   "id": "fbc5339e",
   "metadata": {},
   "outputs": [
    {
     "data": {
      "text/html": [
       "<div>\n",
       "<style scoped>\n",
       "    .dataframe tbody tr th:only-of-type {\n",
       "        vertical-align: middle;\n",
       "    }\n",
       "\n",
       "    .dataframe tbody tr th {\n",
       "        vertical-align: top;\n",
       "    }\n",
       "\n",
       "    .dataframe thead th {\n",
       "        text-align: right;\n",
       "    }\n",
       "</style>\n",
       "<table border=\"1\" class=\"dataframe\">\n",
       "  <thead>\n",
       "    <tr style=\"text-align: right;\">\n",
       "      <th></th>\n",
       "      <th>address</th>\n",
       "      <th>categories</th>\n",
       "      <th>city</th>\n",
       "      <th>claimed</th>\n",
       "      <th>country</th>\n",
       "      <th>cuisines</th>\n",
       "      <th>dateOpened</th>\n",
       "      <th>dateUpdated</th>\n",
       "      <th>descriptions</th>\n",
       "      <th>facebookPageURL</th>\n",
       "      <th>...</th>\n",
       "      <th>menuURL</th>\n",
       "      <th>name</th>\n",
       "      <th>paymentTypes</th>\n",
       "      <th>phones</th>\n",
       "      <th>postalCode</th>\n",
       "      <th>priceRange</th>\n",
       "      <th>province</th>\n",
       "      <th>sic</th>\n",
       "      <th>twitter</th>\n",
       "      <th>websites</th>\n",
       "    </tr>\n",
       "  </thead>\n",
       "  <tbody>\n",
       "    <tr>\n",
       "      <th>127</th>\n",
       "      <td>2641 S Florida Ave</td>\n",
       "      <td>Lakeland Restaurants, Southwest Lakeland, Ital...</td>\n",
       "      <td>Lakeland</td>\n",
       "      <td>NaN</td>\n",
       "      <td>US</td>\n",
       "      <td>NaN</td>\n",
       "      <td>NaN</td>\n",
       "      <td>2014-02-02T04:33:43Z</td>\n",
       "      <td>Italian, Bistro, European, Pasta, Sandwiches, ...</td>\n",
       "      <td>NaN</td>\n",
       "      <td>...</td>\n",
       "      <td>NaN</td>\n",
       "      <td>Fazoli's</td>\n",
       "      <td>NaN</td>\n",
       "      <td>8636872808</td>\n",
       "      <td>33803-3860</td>\n",
       "      <td>NaN</td>\n",
       "      <td>FL</td>\n",
       "      <td>5610</td>\n",
       "      <td>NaN</td>\n",
       "      <td>NaN</td>\n",
       "    </tr>\n",
       "    <tr>\n",
       "      <th>128</th>\n",
       "      <td>700 River Dr</td>\n",
       "      <td>Restaurant</td>\n",
       "      <td>Fort Bragg</td>\n",
       "      <td>NaN</td>\n",
       "      <td>US</td>\n",
       "      <td>Mexican,  American,  Asian,  Vegan</td>\n",
       "      <td>NaN</td>\n",
       "      <td>2016-05-16T22:43:43Z</td>\n",
       "      <td>Tsunami Nacho Truck, Fort Bragg: See 7 unbiase...</td>\n",
       "      <td>NaN</td>\n",
       "      <td>...</td>\n",
       "      <td>NaN</td>\n",
       "      <td>Tsunami Nacho Truck</td>\n",
       "      <td>NaN</td>\n",
       "      <td>14157307646</td>\n",
       "      <td>95437</td>\n",
       "      <td>NaN</td>\n",
       "      <td>CA</td>\n",
       "      <td>NaN</td>\n",
       "      <td>NaN</td>\n",
       "      <td>NaN</td>\n",
       "    </tr>\n",
       "    <tr>\n",
       "      <th>130</th>\n",
       "      <td>703 W Burlington Ave</td>\n",
       "      <td>Restaurants, Fairfield Restaurants, Mexican / ...</td>\n",
       "      <td>Fairfield</td>\n",
       "      <td>NaN</td>\n",
       "      <td>US</td>\n",
       "      <td>NaN</td>\n",
       "      <td>NaN</td>\n",
       "      <td>2015-11-19T22:34:07Z</td>\n",
       "      <td>Tags: Mexican, American, and Family Style Stat...</td>\n",
       "      <td>NaN</td>\n",
       "      <td>...</td>\n",
       "      <td>NaN</td>\n",
       "      <td>Taco John's Fairfield Ia - Hours Reviews &amp; More</td>\n",
       "      <td>NaN</td>\n",
       "      <td>6414727833</td>\n",
       "      <td>52556</td>\n",
       "      <td>USD 0.00 - USD 10.00</td>\n",
       "      <td>IA</td>\n",
       "      <td>4774</td>\n",
       "      <td>NaN</td>\n",
       "      <td>NaN</td>\n",
       "    </tr>\n",
       "    <tr>\n",
       "      <th>131</th>\n",
       "      <td>203 Main St W</td>\n",
       "      <td>Restaurants-breakfast &amp; Diners, Restaurants, A...</td>\n",
       "      <td>Baudette</td>\n",
       "      <td>NaN</td>\n",
       "      <td>US</td>\n",
       "      <td>Italian Cuisine, Gourmet Deli Cuisine, Sandwic...</td>\n",
       "      <td>NaN</td>\n",
       "      <td>2015-11-19T22:33:53Z</td>\n",
       "      <td>Homemade Old Style Cookin</td>\n",
       "      <td>NaN</td>\n",
       "      <td>...</td>\n",
       "      <td>NaN</td>\n",
       "      <td>Mn Restaurant</td>\n",
       "      <td>NaN</td>\n",
       "      <td>2186341165</td>\n",
       "      <td>56623</td>\n",
       "      <td>NaN</td>\n",
       "      <td>MN</td>\n",
       "      <td>5610</td>\n",
       "      <td>NaN</td>\n",
       "      <td>http://www.alicesfamilyrestaurant.net</td>\n",
       "    </tr>\n",
       "    <tr>\n",
       "      <th>132</th>\n",
       "      <td>2655 Capital Cir N E</td>\n",
       "      <td>Tallahassee &gt; Catering, Tallahassee &gt; Restaura...</td>\n",
       "      <td>Tallahassee</td>\n",
       "      <td>NaN</td>\n",
       "      <td>US</td>\n",
       "      <td>NaN</td>\n",
       "      <td>NaN</td>\n",
       "      <td>2013-09-06T04:46:44Z</td>\n",
       "      <td>Full service catering! Delicious, healthy food!!!</td>\n",
       "      <td>NaN</td>\n",
       "      <td>...</td>\n",
       "      <td>NaN</td>\n",
       "      <td>Tastebudz Catering Takeout &amp; Takehome</td>\n",
       "      <td>NaN</td>\n",
       "      <td>8503097348</td>\n",
       "      <td>32308</td>\n",
       "      <td>NaN</td>\n",
       "      <td>FL</td>\n",
       "      <td>5610</td>\n",
       "      <td>NaN</td>\n",
       "      <td>http://www.tastebudz.net</td>\n",
       "    </tr>\n",
       "    <tr>\n",
       "      <th>133</th>\n",
       "      <td>41 E 4th St</td>\n",
       "      <td>[\"Take Out Restaurants\",\"Fast Food Restaurants...</td>\n",
       "      <td>Emporium</td>\n",
       "      <td>NaN</td>\n",
       "      <td>US</td>\n",
       "      <td>Take Out Restaurants, Fast Food Restaurants, R...</td>\n",
       "      <td>NaN</td>\n",
       "      <td>2016-05-23T08:17:29Z</td>\n",
       "      <td>[\"Tags: Pizza, Family Style, and Vegetarian St...</td>\n",
       "      <td>NaN</td>\n",
       "      <td>...</td>\n",
       "      <td>/emporium-pa/mip/foxs-pizza-den-4385237/menu</td>\n",
       "      <td>Fox's Pizza Den</td>\n",
       "      <td>discover, amex, all major credit cards, visa, ...</td>\n",
       "      <td>[\"8144863637\"]</td>\n",
       "      <td>[\"15834\"]</td>\n",
       "      <td>$</td>\n",
       "      <td>PA</td>\n",
       "      <td>5610</td>\n",
       "      <td>NaN</td>\n",
       "      <td>http://www.foxspizzaden.com</td>\n",
       "    </tr>\n",
       "  </tbody>\n",
       "</table>\n",
       "<p>6 rows × 29 columns</p>\n",
       "</div>"
      ],
      "text/plain": [
       "                  address                                         categories  \\\n",
       "127    2641 S Florida Ave  Lakeland Restaurants, Southwest Lakeland, Ital...   \n",
       "128          700 River Dr                                         Restaurant   \n",
       "130  703 W Burlington Ave  Restaurants, Fairfield Restaurants, Mexican / ...   \n",
       "131         203 Main St W  Restaurants-breakfast & Diners, Restaurants, A...   \n",
       "132  2655 Capital Cir N E  Tallahassee > Catering, Tallahassee > Restaura...   \n",
       "133           41 E 4th St  [\"Take Out Restaurants\",\"Fast Food Restaurants...   \n",
       "\n",
       "            city claimed country  \\\n",
       "127     Lakeland     NaN      US   \n",
       "128   Fort Bragg     NaN      US   \n",
       "130    Fairfield     NaN      US   \n",
       "131     Baudette     NaN      US   \n",
       "132  Tallahassee     NaN      US   \n",
       "133     Emporium     NaN      US   \n",
       "\n",
       "                                              cuisines dateOpened  \\\n",
       "127                                                NaN        NaN   \n",
       "128                 Mexican,  American,  Asian,  Vegan        NaN   \n",
       "130                                                NaN        NaN   \n",
       "131  Italian Cuisine, Gourmet Deli Cuisine, Sandwic...        NaN   \n",
       "132                                                NaN        NaN   \n",
       "133  Take Out Restaurants, Fast Food Restaurants, R...        NaN   \n",
       "\n",
       "              dateUpdated                                       descriptions  \\\n",
       "127  2014-02-02T04:33:43Z  Italian, Bistro, European, Pasta, Sandwiches, ...   \n",
       "128  2016-05-16T22:43:43Z  Tsunami Nacho Truck, Fort Bragg: See 7 unbiase...   \n",
       "130  2015-11-19T22:34:07Z  Tags: Mexican, American, and Family Style Stat...   \n",
       "131  2015-11-19T22:33:53Z                          Homemade Old Style Cookin   \n",
       "132  2013-09-06T04:46:44Z  Full service catering! Delicious, healthy food!!!   \n",
       "133  2016-05-23T08:17:29Z  [\"Tags: Pizza, Family Style, and Vegetarian St...   \n",
       "\n",
       "    facebookPageURL  ...                                       menuURL  \\\n",
       "127             NaN  ...                                           NaN   \n",
       "128             NaN  ...                                           NaN   \n",
       "130             NaN  ...                                           NaN   \n",
       "131             NaN  ...                                           NaN   \n",
       "132             NaN  ...                                           NaN   \n",
       "133             NaN  ...  /emporium-pa/mip/foxs-pizza-den-4385237/menu   \n",
       "\n",
       "                                                name  \\\n",
       "127                                         Fazoli's   \n",
       "128                              Tsunami Nacho Truck   \n",
       "130  Taco John's Fairfield Ia - Hours Reviews & More   \n",
       "131                                    Mn Restaurant   \n",
       "132            Tastebudz Catering Takeout & Takehome   \n",
       "133                                  Fox's Pizza Den   \n",
       "\n",
       "                                          paymentTypes          phones  \\\n",
       "127                                                NaN      8636872808   \n",
       "128                                                NaN     14157307646   \n",
       "130                                                NaN      6414727833   \n",
       "131                                                NaN      2186341165   \n",
       "132                                                NaN      8503097348   \n",
       "133  discover, amex, all major credit cards, visa, ...  [\"8144863637\"]   \n",
       "\n",
       "     postalCode            priceRange province   sic twitter  \\\n",
       "127  33803-3860                   NaN       FL  5610     NaN   \n",
       "128       95437                   NaN       CA   NaN     NaN   \n",
       "130       52556  USD 0.00 - USD 10.00       IA  4774     NaN   \n",
       "131       56623                   NaN       MN  5610     NaN   \n",
       "132       32308                   NaN       FL  5610     NaN   \n",
       "133   [\"15834\"]                     $       PA  5610     NaN   \n",
       "\n",
       "                                  websites  \n",
       "127                                    NaN  \n",
       "128                                    NaN  \n",
       "130                                    NaN  \n",
       "131  http://www.alicesfamilyrestaurant.net  \n",
       "132               http://www.tastebudz.net  \n",
       "133            http://www.foxspizzaden.com  \n",
       "\n",
       "[6 rows x 29 columns]"
      ]
     },
     "execution_count": 23,
     "metadata": {},
     "output_type": "execute_result"
    }
   ],
   "source": [
    "rest_df=restaurants.drop([129])\n",
    "rest_df.iloc[127:133]"
   ]
  },
  {
   "cell_type": "code",
   "execution_count": 24,
   "id": "149f34ec",
   "metadata": {},
   "outputs": [
    {
     "data": {
      "text/plain": [
       "(17948, 29)"
      ]
     },
     "execution_count": 24,
     "metadata": {},
     "output_type": "execute_result"
    }
   ],
   "source": [
    "rest_df.shape"
   ]
  },
  {
   "cell_type": "markdown",
   "id": "dc7229b7",
   "metadata": {},
   "source": [
    "We'll keep these rows.  Now just select a few columns for analysis."
   ]
  },
  {
   "cell_type": "code",
   "execution_count": 25,
   "id": "e6a75591",
   "metadata": {},
   "outputs": [
    {
     "data": {
      "text/html": [
       "<div>\n",
       "<style scoped>\n",
       "    .dataframe tbody tr th:only-of-type {\n",
       "        vertical-align: middle;\n",
       "    }\n",
       "\n",
       "    .dataframe tbody tr th {\n",
       "        vertical-align: top;\n",
       "    }\n",
       "\n",
       "    .dataframe thead th {\n",
       "        text-align: right;\n",
       "    }\n",
       "</style>\n",
       "<table border=\"1\" class=\"dataframe\">\n",
       "  <thead>\n",
       "    <tr style=\"text-align: right;\">\n",
       "      <th></th>\n",
       "      <th>city</th>\n",
       "      <th>province</th>\n",
       "      <th>lat</th>\n",
       "      <th>long</th>\n",
       "    </tr>\n",
       "  </thead>\n",
       "  <tbody>\n",
       "    <tr>\n",
       "      <th>0</th>\n",
       "      <td>Clearwater</td>\n",
       "      <td>FL</td>\n",
       "      <td>27.971165</td>\n",
       "      <td>-82.696938</td>\n",
       "    </tr>\n",
       "    <tr>\n",
       "      <th>1</th>\n",
       "      <td>Louisville</td>\n",
       "      <td>KY</td>\n",
       "      <td>38.257020</td>\n",
       "      <td>-85.760013</td>\n",
       "    </tr>\n",
       "    <tr>\n",
       "      <th>2</th>\n",
       "      <td>Puyallup</td>\n",
       "      <td>WA</td>\n",
       "      <td>47.154828</td>\n",
       "      <td>-122.303992</td>\n",
       "    </tr>\n",
       "    <tr>\n",
       "      <th>3</th>\n",
       "      <td>Oberlin</td>\n",
       "      <td>OH</td>\n",
       "      <td>41.290823</td>\n",
       "      <td>-82.217640</td>\n",
       "    </tr>\n",
       "    <tr>\n",
       "      <th>4</th>\n",
       "      <td>Pleasant Hill</td>\n",
       "      <td>CA</td>\n",
       "      <td>37.945663</td>\n",
       "      <td>-122.061997</td>\n",
       "    </tr>\n",
       "  </tbody>\n",
       "</table>\n",
       "</div>"
      ],
      "text/plain": [
       "            city province        lat        long\n",
       "0     Clearwater       FL  27.971165  -82.696938\n",
       "1     Louisville       KY  38.257020  -85.760013\n",
       "2       Puyallup       WA  47.154828 -122.303992\n",
       "3        Oberlin       OH  41.290823  -82.217640\n",
       "4  Pleasant Hill       CA  37.945663 -122.061997"
      ]
     },
     "execution_count": 25,
     "metadata": {},
     "output_type": "execute_result"
    }
   ],
   "source": [
    "cols = [\"city\", \"province\", \"lat\", \"long\"]\n",
    "locations_df = rest_df[cols]\n",
    "locations_df.head()"
   ]
  },
  {
   "cell_type": "markdown",
   "id": "0b5faf7b",
   "metadata": {},
   "source": [
    "### Install more packages I'll need to show the map of the restaurants"
   ]
  },
  {
   "cell_type": "code",
   "execution_count": 26,
   "id": "3fe97d50",
   "metadata": {},
   "outputs": [
    {
     "name": "stdout",
     "output_type": "stream",
     "text": [
      "Requirement already satisfied: geopandas in /Users/mhapich/opt/anaconda3/lib/python3.9/site-packages (0.11.1)\n",
      "Requirement already satisfied: packaging in /Users/mhapich/opt/anaconda3/lib/python3.9/site-packages (from geopandas) (21.0)\n",
      "Requirement already satisfied: shapely<2,>=1.7 in /Users/mhapich/opt/anaconda3/lib/python3.9/site-packages (from geopandas) (1.8.4)\n",
      "Requirement already satisfied: pyproj>=2.6.1.post1 in /Users/mhapich/opt/anaconda3/lib/python3.9/site-packages (from geopandas) (3.4.0)\n",
      "Requirement already satisfied: pandas>=1.0.0 in /Users/mhapich/opt/anaconda3/lib/python3.9/site-packages (from geopandas) (1.3.4)\n",
      "Requirement already satisfied: fiona>=1.8 in /Users/mhapich/opt/anaconda3/lib/python3.9/site-packages (from geopandas) (1.8.21)\n",
      "Requirement already satisfied: click-plugins>=1.0 in /Users/mhapich/opt/anaconda3/lib/python3.9/site-packages (from fiona>=1.8->geopandas) (1.1.1)\n",
      "Requirement already satisfied: munch in /Users/mhapich/opt/anaconda3/lib/python3.9/site-packages (from fiona>=1.8->geopandas) (2.5.0)\n",
      "Requirement already satisfied: cligj>=0.5 in /Users/mhapich/opt/anaconda3/lib/python3.9/site-packages (from fiona>=1.8->geopandas) (0.7.2)\n",
      "Requirement already satisfied: six>=1.7 in /Users/mhapich/opt/anaconda3/lib/python3.9/site-packages (from fiona>=1.8->geopandas) (1.16.0)\n",
      "Requirement already satisfied: click>=4.0 in /Users/mhapich/opt/anaconda3/lib/python3.9/site-packages (from fiona>=1.8->geopandas) (8.0.3)\n",
      "Requirement already satisfied: setuptools in /Users/mhapich/opt/anaconda3/lib/python3.9/site-packages (from fiona>=1.8->geopandas) (58.0.4)\n",
      "Requirement already satisfied: certifi in /Users/mhapich/opt/anaconda3/lib/python3.9/site-packages (from fiona>=1.8->geopandas) (2021.10.8)\n",
      "Requirement already satisfied: attrs>=17 in /Users/mhapich/opt/anaconda3/lib/python3.9/site-packages (from fiona>=1.8->geopandas) (21.2.0)\n",
      "Requirement already satisfied: python-dateutil>=2.7.3 in /Users/mhapich/opt/anaconda3/lib/python3.9/site-packages (from pandas>=1.0.0->geopandas) (2.8.2)\n",
      "Requirement already satisfied: pytz>=2017.3 in /Users/mhapich/opt/anaconda3/lib/python3.9/site-packages (from pandas>=1.0.0->geopandas) (2021.3)\n",
      "Requirement already satisfied: numpy>=1.17.3 in /Users/mhapich/opt/anaconda3/lib/python3.9/site-packages (from pandas>=1.0.0->geopandas) (1.20.3)\n",
      "Requirement already satisfied: pyparsing>=2.0.2 in /Users/mhapich/opt/anaconda3/lib/python3.9/site-packages (from packaging->geopandas) (3.0.4)\n"
     ]
    }
   ],
   "source": [
    "! pip install geopandas"
   ]
  },
  {
   "cell_type": "code",
   "execution_count": 27,
   "id": "f033ddc5",
   "metadata": {},
   "outputs": [],
   "source": [
    "# import descartes\n",
    "import geopandas as gpd\n",
    "# from shapely.geometry import Point, Polygon\n",
    "import plotly.express as px"
   ]
  },
  {
   "cell_type": "code",
   "execution_count": 28,
   "id": "dec798f3",
   "metadata": {},
   "outputs": [],
   "source": [
    "restaurant_map_df = gpd.GeoDataFrame(locations_df, geometry=gpd.points_from_xy(locations_df.long, locations_df.lat))"
   ]
  },
  {
   "cell_type": "raw",
   "id": "9e5b5ab3",
   "metadata": {},
   "source": [
    "restaurant_map_df.long"
   ]
  },
  {
   "cell_type": "code",
   "execution_count": 29,
   "id": "d53669a1",
   "metadata": {},
   "outputs": [
    {
     "data": {
      "text/plain": [
       "0        -82.696938\n",
       "1        -85.760013\n",
       "2       -122.303992\n",
       "3        -82.217640\n",
       "4       -122.061997\n",
       "            ...    \n",
       "17944    -93.101769\n",
       "17945    -81.092260\n",
       "17946    -80.268463\n",
       "17947    -80.090760\n",
       "17948           NaN\n",
       "Name: long, Length: 17948, dtype: float64"
      ]
     },
     "execution_count": 29,
     "metadata": {},
     "output_type": "execute_result"
    }
   ],
   "source": [
    "locations_df.long"
   ]
  },
  {
   "cell_type": "code",
   "execution_count": null,
   "id": "dc7baada",
   "metadata": {},
   "outputs": [],
   "source": [
    "locations_df.to_csv('rest_locations.csv', index=False)"
   ]
  },
  {
   "cell_type": "code",
   "execution_count": null,
   "id": "8e1c33c6",
   "metadata": {},
   "outputs": [],
   "source": []
  }
 ],
 "metadata": {
  "kernelspec": {
   "display_name": "Python 3 (ipykernel)",
   "language": "python",
   "name": "python3"
  },
  "language_info": {
   "codemirror_mode": {
    "name": "ipython",
    "version": 3
   },
   "file_extension": ".py",
   "mimetype": "text/x-python",
   "name": "python",
   "nbconvert_exporter": "python",
   "pygments_lexer": "ipython3",
   "version": "3.9.7"
  }
 },
 "nbformat": 4,
 "nbformat_minor": 5
}
